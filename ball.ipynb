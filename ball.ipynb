{
 "cells": [
  {
   "cell_type": "markdown",
   "id": "8cab26c5-e2fe-46c8-b49e-57b43165eabf",
   "metadata": {},
   "source": [
    "____ \n",
    "\n",
    "### Magic 8 BAll #### \n",
    "\n",
    "\n",
    "_____"
   ]
  },
  {
   "cell_type": "code",
   "execution_count": 7,
   "id": "f38b6131-14b6-42eb-9c38-35ecb5471d8f",
   "metadata": {},
   "outputs": [
    {
     "name": "stdout",
     "output_type": "stream",
     "text": [
      "Joe asks: Will I win the lottery?\n",
      "Magic 8 Ball's answer: My sources say no\n"
     ]
    }
   ],
   "source": [
    "import random\n",
    "\n",
    "name = \"Joe\"\n",
    "question = \"Will I win the lottery?\"\n",
    "answer = \"\"\n",
    "\n",
    "random_number = random.randint(1, 9)\n",
    "# print(random_number)\n",
    "\n",
    "if random_number == 1:\n",
    "  answer = \"Yes - definitely\"\n",
    "elif random_number == 2:\n",
    "  answer = \"It is decidedly so\"\n",
    "elif random_number == 3:\n",
    "  answer = \"Without a doubt\"\n",
    "elif random_number == 4:\n",
    "  answer = \"Reply hazy, try again\"\n",
    "elif random_number == 5:\n",
    "  answer = \"Ask again later\"\n",
    "elif random_number == 6:\n",
    "  answer = \"Better not tell you now\"\n",
    "elif random_number == 7:\n",
    "  answer = \"My sources say no\"\n",
    "elif random_number == 8:\n",
    "  answer = \"Outlook not so good\"\n",
    "elif random_number == 9:\n",
    "  answer = \"Very doubtful\"\n",
    "else:\n",
    "  answer = \"Error\"\n",
    "  \n",
    "print(name + \" asks: \" + question)\n",
    "print(\"Magic 8 Ball's answer: \" + answer)"
   ]
  },
  {
   "cell_type": "code",
   "execution_count": null,
   "id": "1972d0fb-4826-4440-8e57-eee7117316dc",
   "metadata": {},
   "outputs": [],
   "source": []
  },
  {
   "cell_type": "code",
   "execution_count": null,
   "id": "39d1dde8-fa0c-4bfa-a842-57720a22e691",
   "metadata": {},
   "outputs": [],
   "source": []
  }
 ],
 "metadata": {
  "kernelspec": {
   "display_name": "Python 3 (ipykernel)",
   "language": "python",
   "name": "python3"
  },
  "language_info": {
   "codemirror_mode": {
    "name": "ipython",
    "version": 3
   },
   "file_extension": ".py",
   "mimetype": "text/x-python",
   "name": "python",
   "nbconvert_exporter": "python",
   "pygments_lexer": "ipython3",
   "version": "3.7.13"
  }
 },
 "nbformat": 4,
 "nbformat_minor": 5
}
